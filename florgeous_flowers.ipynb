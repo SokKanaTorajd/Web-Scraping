{
 "cells": [
  {
   "cell_type": "code",
   "execution_count": 1,
   "metadata": {},
   "outputs": [],
   "source": [
    "from bs4 import BeautifulSoup as bs\n",
    "import requests\n",
    "\n",
    "url = requests.get('https://florgeous.com/types-of-flowers/')\n",
    "soup = bs(url.content)\n",
    "# soup.prettify()\n",
    "# ambil class utama\n",
    "get_main_content = soup.find(class_=\"entry-content clear\")\n",
    "# ambil nama bunga\n",
    "title = get_main_content.find_all(\"h3\")\n",
    "for x in title:\n",
    "    print (x.get_text())\n",
    "# ambil gambar bunga(satu)\n",
    "gambar = get_main_content.find(\"img\")\n",
    "gambar['data-lazy-src']\n",
    "\n",
    "# ambil semua link gambar \n",
    "gambar_all = soup.select(\".wp-block-image\")\n",
    "# gambar_all\n",
    "for y,k in enumerate(gambar_all):\n",
    "    print(k.img['data-lazy-src'])\n",
    "# ambil deskripsi\n",
    "desc = get_main_content.find_all(\"p\")\n",
    "for x in desc:\n",
    "    print(x.get_text())\n",
    "\n"
   ]
  },
  {
   "cell_type": "code",
   "execution_count": null,
   "metadata": {},
   "outputs": [],
   "source": [
    "import requests\n",
    "from bs4 import BeautifulSoup as bs\n",
    "\n",
    "page_data = requests.get('https://florgeous.com/types-of-flowers/')\n",
    "soup = bs(page_data.content,'html.parser')\n",
    "main_content = soup.select('div.content-area')\n",
    "\n",
    "def getBunga(bunga):\n",
    "    return [y.get_text('', strip=True) for x,y in enumerate(bunga.find_all(\"h3\"))]\n",
    "\n",
    "def getGambar(gambar):\n",
    "    image = gambar.select('figure > img')\n",
    "    # for imag in image:\n",
    "    #     src = imag.get('data-lazy-src')\n",
    "    #     print(src)\n",
    "    return [y.get('data-lazy-src').strip() for x,y in enumerate(image)]\n",
    "      \n",
    "\n",
    "def getDeskripsi(desc):\n",
    "    return[h.text.strip().replace('\\n','').replace('\\t','') for x, h in enumerate(desc.find_all(\"p\"))]\n",
    "\n",
    "bunga = []\n",
    "for content in main_content:\n",
    "    nama_bunga = getBunga(content)\n",
    "\n",
    "    gambar_bunga = getGambar(content)\n",
    "    deskripsi = getDeskripsi(content)\n",
    "\n",
    "    flowers = {\n",
    "        'nama':nama_bunga,\n",
    "        'gambar':gambar_bunga,\n",
    "        'deskripsi':deskripsi\n",
    "    }\n",
    "bunga.append(flowers)\n",
    "print(bunga)\n",
    "\n",
    "import json\n",
    "def save_data(title,data):\n",
    "    with open(title,'a',encoding='utf-8') as f:\n",
    "        json.dump(data, f, ensure_ascii=False, indent=2)\n",
    "\n",
    "def load_data(title):\n",
    "    with open(title, encoding=\"utf-8\") as f:\n",
    "        return json.load(f)\n",
    "save_data('bunga.json',bunga)\n",
    "    \n"
   ]
  }
 ],
 "metadata": {
  "interpreter": {
   "hash": "0bf491debb1323e6b952e9b9b41b7810b4a48edbb68ec0475fd0540a95f2daa0"
  },
  "kernelspec": {
   "display_name": "Python 3.9.6 64-bit",
   "language": "python",
   "name": "python3"
  },
  "language_info": {
   "codemirror_mode": {
    "name": "ipython",
    "version": 3
   },
   "file_extension": ".py",
   "mimetype": "text/x-python",
   "name": "python",
   "nbconvert_exporter": "python",
   "pygments_lexer": "ipython3",
   "version": "3.9.6"
  },
  "orig_nbformat": 4
 },
 "nbformat": 4,
 "nbformat_minor": 2
}
