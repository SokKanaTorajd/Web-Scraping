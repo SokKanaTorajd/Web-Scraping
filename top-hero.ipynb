{
 "cells": [
  {
   "cell_type": "code",
   "execution_count": 1,
   "metadata": {},
   "outputs": [],
   "source": [
    "import requests\n",
    "from bs4 import BeautifulSoup as bs\n",
    "import re"
   ]
  },
  {
   "cell_type": "code",
   "execution_count": null,
   "metadata": {},
   "outputs": [],
   "source": [
    "# def get_nama(name):\n",
    "#     names = []\n",
    "#     for nam in name:\n",
    "#         sel = nam.select('span', style = re.compile('font-size:10pt'))[0].text.replace('(','').replace(')','')\n",
    "#         names.append(sel)\n",
    "#     return names\n",
    "\n",
    "# def get_gambar(gm):\n",
    "#     picts = []\n",
    "#     for gambar in gm:\n",
    "#         pic = gambar.select('td>a>img')[0]['src']\n",
    "#         picts.append(pic)\n",
    "#     return picts\n",
    "\n",
    "# def get_asal(sal):\n",
    "#     origins = []\n",
    "#     for a in sal:\n",
    "#         ll = a.select('b')[2].text\n",
    "#         origins.append(ll)\n",
    "#     return origins\n",
    "\n",
    "# def get_meninggal(det):\n",
    "#     dead = []\n",
    "#     for w in det:\n",
    "#         ll = w.find_all('b')[3].text\n",
    "#         deaths.append(ll)\n",
    "#     return dead\n",
    "\n",
    "# def get_lahir(lah):\n",
    "#     born = []\n",
    "#     for w in lah:\n",
    "#         ll = w.find_all('b')[4].text\n",
    "#         born.append(ll)\n",
    "#     return born"
   ]
  },
  {
   "cell_type": "code",
   "execution_count": 2,
   "metadata": {},
   "outputs": [],
   "source": [
    "link_page = requests.get('http://civitasbook.com/singo.php?cb=non&_i=daftar-pahlawan&id1=aaaaaaaatamu&id2=')\n",
    "soup = bs(link_page.text, 'html.parser')\n",
    "table = soup.find(\"table\", attrs={'style': 'margin-top:15px;'})\n",
    "rows = table.find_all(\"tr\")"
   ]
  },
  {
   "cell_type": "code",
   "execution_count": 14,
   "metadata": {},
   "outputs": [],
   "source": [
    "heros = []\n",
    "for row in rows:\n",
    "    # dicari berdasarkan div dengan class 'dph'\n",
    "    row_name = row.find(\"div\", {\"class\": \"dph\"})\n",
    "    # cek apabila ada row yang tidak ada isinya\n",
    "    if row_name!=None:\n",
    "        try:\n",
    "            nama_pahlawan = row_name.find(\"span\", {\"style\": \"font-size:10pt;\"}).text\n",
    "        # set nama_pahlawan menjadi None karena tidak ada nama lengkap\n",
    "        except AttributeError:\n",
    "            nama_pahlawan = None\n",
    "        # simpan data ke dictionary\n",
    "        hero = {\n",
    "            'nama_lengkap': nama_pahlawan\n",
    "        }\n",
    "        # tambahkan ke list\n",
    "        heros.append(hero)"
   ]
  },
  {
   "cell_type": "code",
   "execution_count": 15,
   "metadata": {},
   "outputs": [
    {
     "name": "stdout",
     "output_type": "stream",
     "text": [
      "[{'nama_lengkap': '(K.H. Abdul Wahab Chasbullah, Kyai Wahab)'}, {'nama_lengkap': '(Jenderal Besar Dr. Abdul Harris Nasution)'}, {'nama_lengkap': '(K.H. Abdoel Halim)'}, {'nama_lengkap': '(Abdoel Moeis)'}, {'nama_lengkap': '(Marsda. Prof. dr. Abdulrachman Saleh, Sp.F.)'}, {'nama_lengkap': \"(K.H. Ahmad Rifa'i)\"}, {'nama_lengkap': '(Prof. Mr. R. Achmad Soebardjo Djojoadisoerjo)'}, {'nama_lengkap': '(H. Adam Malik Batubara)'}, {'nama_lengkap': '(Mayjen. dr. Adnan Kapau Gani)'}, {'nama_lengkap': '(Marsda. Mas Agustinus Adisoetjipto)'}, {'nama_lengkap': '(Sultan Ageng Tirtajasa, Sultan Abdul Fathi Abdul Fattah)'}, {'nama_lengkap': '(Sultan Agung Anyokrokusumo)'}, {'nama_lengkap': '(K.H. Agoes Salim)'}, {'nama_lengkap': '(K.H. Achmad Dahlan)'}, {'nama_lengkap': '(Jenderal Achmad Yani)'}, {'nama_lengkap': '(Mgr A. Sugiopranoto, S.J.)'}, {'nama_lengkap': '(Raja Ali Haji Bin Raja Haji Ahmad)'}, {'nama_lengkap': None}, {'nama_lengkap': '(Tengkoe Amir Hamzah Pangeran Indra Poetera)'}, {'nama_lengkap': None}, {'nama_lengkap': '(Andi Mappanyukki Sultan Ibrahim)'}, {'nama_lengkap': '(A.F. Lasut)'}, {'nama_lengkap': None}, {'nama_lengkap': '(Jenderal Basuki Rachmat)'}, {'nama_lengkap': '(Letjen. Andi Abdullah Bau Massepe)'}, {'nama_lengkap': '(BW Lapian)'}, {'nama_lengkap': '(dr. Tjipto Mangoenkoesoemo)'}, {'nama_lengkap': \"(Tjut Njak Dhien, Tjoet Nja' Dhien)\"}, {'nama_lengkap': \"(Tjut Meutia, Tjoet Nja' Meutia)\"}, {'nama_lengkap': '(Mayjen. Donald Isaac Panjaitan)'}, {'nama_lengkap': '(Raden Dewi Sartika)'}, {'nama_lengkap': '(Pangeran Diponegoro, Raden Mas Ontowiryo)'}, {'nama_lengkap': '(Jenderal Goesti Pangeran Harjo Djatikoesoemo)'}, {'nama_lengkap': '(Dr. Ernest Douwes Dekker, Danudirja Setiabudi, Setyabudi)'}, {'nama_lengkap': '(K.H. Fachruddin, Muhammad Jazuli)'}, {'nama_lengkap': '(Hj. Fatmawati Soekarno)'}, {'nama_lengkap': '(dr. Ferdinand Lumbantobing)'}, {'nama_lengkap': None}, {'nama_lengkap': '(Gatot Mangkoepradja)'}, {'nama_lengkap': '(Jenderal Gatot Subroto)'}, {'nama_lengkap': '(Raden Hadji Oemar Said Tjokroaminoto)'}, {'nama_lengkap': '(Marsda. Abdul Halim Perdana Kusuma)'}, {'nama_lengkap': '(Sri Sultan Hamengkuwubono I)'}, {'nama_lengkap': '(Sri Sultan Hamengkuwubono IX)'}, {'nama_lengkap': '(Prof. Dr. H. Abdul Malik Karim Amrullah)'}, {'nama_lengkap': '(Kopral KKO Harun bin Said, Thohir bin Mandar, Tahir)'}, {'nama_lengkap': '(Brigjen H. Hasan Basry)'}, {'nama_lengkap': '(Sultan Hasanuddin)'}, {'nama_lengkap': '(K.H. Mohammad Hasjim Asjarie/Asyarie)'}, {'nama_lengkap': '(Prof. Dr. Hazairin, SH)'}, {'nama_lengkap': '(Prof. Dr. Ir. Herman Johannes)'}, {'nama_lengkap': '(Patih Jelantik)'}, {'nama_lengkap': '(Mr. I Goesti Ketoet Poedja)'}, {'nama_lengkap': '(Raja Badung VII / Raja Denpasar VI)'}, {'nama_lengkap': '(Brigjen I Gusti Ngurah Rai)'}, {'nama_lengkap': '(Mr. Ignatius Joseph Kasimo Hendrowahyono)'}, {'nama_lengkap': '(Mr. Dr. Ide Anak Agung Gde Agung)'}, {'nama_lengkap': '(Dr. (HC) K.H. Idham Chalid)'}, {'nama_lengkap': '(H. Ilyas Yakoub)'}, {'nama_lengkap': '(Tuanku Imam Bondjol)'}, {'nama_lengkap': '(Sultan Iskandar Muda)'}, {'nama_lengkap': None}, {'nama_lengkap': '(Marsma. R. Iswahjoedi)'}, {'nama_lengkap': '(Prof. Mr. Iwa Koesoema Soemantri)'}, {'nama_lengkap': '(Izaac Huru Doko)'}, {'nama_lengkap': '(dr. Johanes Leimena)'}, {'nama_lengkap': '(Mayor TNI Johannes Abraham Dimara)'}, {'nama_lengkap': '(Letjen TNI Djamin Gintings)'}, {'nama_lengkap': '(Laksda Lie Tjeng Tjoan, Jahja Daniel Dharma)'}, {'nama_lengkap': '(Ir. H. Raden Djoeanda Kartawidjaja)'}, {'nama_lengkap': '(Brigadir Polisi Karel Satsuit Tubun)'}, {'nama_lengkap': '(Brigjen. Katamso Darmokusumo)'}, {'nama_lengkap': '(Ki Bagoes Hadikoesoemo)'}, {'nama_lengkap': '(Dr. (HC) RM Soewardi Soerjaningrat)'}, {'nama_lengkap': '(Ki Sarmidi Mangunsarkoro)'}, {'nama_lengkap': '(Garamata)'}, {'nama_lengkap': '(Prof. Dr. R. Soelaiman Effendi Koesoemah Atmadja, SH.)'}, {'nama_lengkap': '(Mr. Lambertus Nicodemus Palar)'}, {'nama_lengkap': '(Arung Matowa Wajo XXXIV, Arung Siengkang)'}, {'nama_lengkap': '(Mohammad Husni Thamrin)'}, {'nama_lengkap': '(Letjen. Mas Tirtodarmo Harjono)'}, {'nama_lengkap': '(Maria Josephine Catherine Maramis)'}, {'nama_lengkap': None}, {'nama_lengkap': None}, {'nama_lengkap': '(Mayor Jenderal Mas Isman)'}, {'nama_lengkap': '(K.H. Mas Mansoer)'}, {'nama_lengkap': '(Maskoen Soemadiredja)'}, {'nama_lengkap': '(Komjen Dr. H. Muhammad Jasin)'}, {'nama_lengkap': '(Dr. (HC) Drs. H. Mohammad Hatta)'}, {'nama_lengkap': '(Prof. Mohammad Yamin, SH.)'}, {'nama_lengkap': '(H.R. Mohammad Mangoendiprodjo)'}, {'nama_lengkap': '(Mayjen. Prof. Dr. Moestopo)'}, {'nama_lengkap': '(dr. Moewardi, Sp.THT.)'}, {'nama_lengkap': '(H. Nani Wartabone)'}, {'nama_lengkap': '(Dr. Mohammad Natsir)'}, {'nama_lengkap': '(KH. Noer Alie)'}, {'nama_lengkap': '(Siti Walidah, Nyai Achmad Dachlan)'}, {'nama_lengkap': '(Raden Ajeng Kustiyah Wulaningsih Retno Edi)'}, {'nama_lengkap': '(Famajjah, Fammajah)'}, {'nama_lengkap': '(Jalak Harupat, Raden Otto Iskandar di Nata)'}, {'nama_lengkap': '(H. Pajonga Daeng Ngalie Karaeng Polongbangkeng)'}, {'nama_lengkap': '(Sri Susuhunan Pakubuwono VI, Sinuhun Bangun Tapa)'}, {'nama_lengkap': '(Sri Susuhunan Pakubuwono X)'}, {'nama_lengkap': '(Panembahan Amiruddin Khalifatul Mukminin)'}, {'nama_lengkap': '(KGPAA Mangkunegoro I, Raden Mas Said)'}, {'nama_lengkap': '(Kapitan Pattimura, Thomas Matulessy)'}, {'nama_lengkap': '(Kapten CZI. Pierre Andreas Tendean)'}, {'nama_lengkap': '(Pongtiku, Nene Baso)'}, {'nama_lengkap': '(Raden Adjeng Kartini, Raden Ayu Kartini)'}, {'nama_lengkap': '(Laksamana Laut Raden Eddy Martadinata)'}, {'nama_lengkap': '(Letjend. Raden Soeprapto)'}, {'nama_lengkap': '(Abdul Kadir)'}, {'nama_lengkap': '(Radin Inten II gelar Kesuma Ratu)'}, {'nama_lengkap': '(Pangeran Sutawijaya, Panembahan Senopati)'}, {'nama_lengkap': '(dr. KRT Radjiman Wedyodiningrat, M.Art)'}, {'nama_lengkap': None}, {'nama_lengkap': '(Hajjah Rangkayo Rasuna Said)'}, {'nama_lengkap': '(Letjend. Siswondo Parman)'}, {'nama_lengkap': '(Dr. Sahardjo, SH.)'}, {'nama_lengkap': '(Dr. Gerungan Saul Samuel Jacob Ratulangi)'}, {'nama_lengkap': '(Kyai Haji Samanhudi)'}, {'nama_lengkap': None}, {'nama_lengkap': '(Raja Si Singamangaradja XII, Ompu Pulo Batu)'}, {'nama_lengkap': '(Brigjen. Ignatius Slamet Rijadi)'}, {'nama_lengkap': '(Jenderal Besar Raden Soedirman)'}, {'nama_lengkap': '(Kolonel Inf. R. Sugiyono Mangunwiyoto)'}, {'nama_lengkap': '(Prof. Dr. R. Soeharso)'}, {'nama_lengkap': '(Soekardjo Wirjopranoto)'}, {'nama_lengkap': '(Soekarni Kartodiwirjo)'}, {'nama_lengkap': '(Dr. (HC) Ir. H. Soekarno)'}, {'nama_lengkap': '(Hadji Andi Sultan Daeng Radja)'}, {'nama_lengkap': '(Raden Hasan Pangeran Ratu)'}, {'nama_lengkap': '(Nuku Muhammad Amiruddin Kaicil Paparangan)'}, {'nama_lengkap': '(Raden Thaha Adiningrat)'}, {'nama_lengkap': '(Soepeno)'}, {'nama_lengkap': '(Prof. Dr. Mr. Soepomo)'}, {'nama_lengkap': '(Soedanco Soeprijadi, Suprijadi)'}, {'nama_lengkap': '(Raden Pandji Soeroso)'}, {'nama_lengkap': '(Gubernur Surjo, Raden Mas Tumenggung Ario Soerjo)'}, {'nama_lengkap': '(Raden Mas Soerjopranoto)'}, {'nama_lengkap': '(Soetan Sjahrir)'}, {'nama_lengkap': '(Bung Tomo, Mayor Jenderal Soetomo)'}, {'nama_lengkap': '(dr. Soetomo)'}, {'nama_lengkap': '(Mayjen. Soetojo Siswomihardjo)'}, {'nama_lengkap': '(Mr. Sjafruddin Prawiranegara)'}, {'nama_lengkap': '(Sultan Asyaidis Syarif Kasim Sani Abdul Jalil Syarifuddin)'}, {'nama_lengkap': '(Letjen. Dr. (HC) Tahi Bonar Simatupang)'}, {'nama_lengkap': '(Dr. (HC) Mr. Teuku Muhammad Hasan)'}, {'nama_lengkap': '(Ibrahim Gelar Datuk Sutan Malaka)'}, {'nama_lengkap': None}, {'nama_lengkap': '(Teungku Chik di Tiro Muhammad Saman)'}, {'nama_lengkap': None}, {'nama_lengkap': '(Ny. Hj. Raden Ayu Fatimah Siti Hartinah Soeharto)'}, {'nama_lengkap': '(Raden Mas Djokomono Tirto Adhi Soerjo, TAS)'}, {'nama_lengkap': '(Marsekal Pertama Tjilik Riwut)'}, {'nama_lengkap': '(Tuanku Haji Muhammad Saleh)'}, {'nama_lengkap': '(Tumenggung Wironegoro, Surawiroaji)'}, {'nama_lengkap': '(Jenderal Oerip Soemohardjo)'}, {'nama_lengkap': '(Serda. KKO. Oesman Djanatin bin Haji Mohammad Ali)'}, {'nama_lengkap': '(Wage Roedolf Soepratman)'}, {'nama_lengkap': '(Prof. Dr. Wilhelmus Zakaria Johannes)'}, {'nama_lengkap': '(Kiai Haji Abdul Wahid Hasjim)'}, {'nama_lengkap': '(dr. Wahidin Soedirohoesodo)'}, {'nama_lengkap': '(Robert Wolter Monginsidi)'}, {'nama_lengkap': '(Laksmana Madya Josaphat Soedarso)'}, {'nama_lengkap': '(Syekh Yusuf Abul Mahasin Tajul Khalwati Al-Makasari)'}, {'nama_lengkap': '(K.H. Zaenal Moesthofa, Hoedaeni)'}, {'nama_lengkap': '(Kiai Haji Zainul Arifin Pohan)'}]\n"
     ]
    }
   ],
   "source": [
    "print(heros)"
   ]
  },
  {
   "cell_type": "code",
   "execution_count": null,
   "metadata": {},
   "outputs": [],
   "source": []
  }
 ],
 "metadata": {
  "interpreter": {
   "hash": "0bf491debb1323e6b952e9b9b41b7810b4a48edbb68ec0475fd0540a95f2daa0"
  },
  "kernelspec": {
   "display_name": "Python 3",
   "language": "python",
   "name": "python3"
  },
  "language_info": {
   "codemirror_mode": {
    "name": "ipython",
    "version": 3
   },
   "file_extension": ".py",
   "mimetype": "text/x-python",
   "name": "python",
   "nbconvert_exporter": "python",
   "pygments_lexer": "ipython3",
   "version": "3.7.4"
  }
 },
 "nbformat": 4,
 "nbformat_minor": 2
}
