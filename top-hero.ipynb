{
 "cells": [
  {
   "cell_type": "code",
   "execution_count": 31,
   "metadata": {},
   "outputs": [
    {
     "name": "stdout",
     "output_type": "stream",
     "text": [
      "[{'nama': 'K.H. Abdul Wahab Chasbullah, Kyai Wahab', 'gambar': 'http://civitasbook.com/_z_profile_b/z1/t/aaaaaxzt162_pahlawan.jpg', 'asal': 'Jawa Timur', 'meninggal': '83', 'lahir': 'Sabtu Wage, 31 Maret 1888'}]\n"
     ]
    }
   ],
   "source": [
    "import requests\n",
    "from bs4 import BeautifulSoup as bs\n",
    "import re\n",
    "\n",
    "link_page = requests.get('http://civitasbook.com/singo.php?cb=non&_i=daftar-pahlawan&id1=aaaaaaaatamu&id2=')\n",
    "soup = bs(link_page.content, 'html.parser')\n",
    "tablee = soup.select('table',style = re.compile('margin-top:15px'))\n",
    "\n",
    "def get_nama(name):\n",
    "    for nam in name:\n",
    "        sel = nam.select('span', style = re.compile('font-size:10pt'))[0].text.replace('(','').replace(')','')\n",
    "        return sel\n",
    "\n",
    "def get_gambar(gm):\n",
    "    for gambar in gm:\n",
    "        pic = gambar.select('td>a>img')[0]['src']\n",
    "        return pic\n",
    "\n",
    "def get_asal(sal):\n",
    "    for a in sal:\n",
    "        ll = a.select('b')[2].text\n",
    "        return ll\n",
    "\n",
    "def get_meninggal(det):\n",
    "     for w in det:\n",
    "        ll = w.find_all('b')[3].text\n",
    "        return ll\n",
    "\n",
    "def get_lahir(lah):\n",
    "     for w in lah:\n",
    "        ll = w.find_all('b')[4].text\n",
    "        return ll\n",
    "heros = []\n",
    "for xxu in tablee:\n",
    "    get_isie = xxu.find_all('td',bgcolor = re.compile('#e9e9db'))\n",
    "    namae = xxu.select('div.dph') \n",
    "    asale = xxu.select('td.pah1')\n",
    "    meninggale = xxu.select('td.pah1')\n",
    "    lahire = xxu.select('td.pah1')\n",
    "    # ss\n",
    "    nama = get_nama(namae)\n",
    "    gambar = get_gambar(get_isie)\n",
    "    asal = get_asal(asale)\n",
    "    meninggal = get_meninggal(meninggale)\n",
    "    lahir = get_lahir(lahire)\n",
    "    hero = {\n",
    "        'nama':nama,\n",
    "        'gambar':gambar,\n",
    "        'asal':asal,\n",
    "        'meninggal':meninggal,\n",
    "        'lahir':lahir\n",
    "    }\n",
    "heros.append(hero)\n",
    "print(heros)\n",
    "\n"
   ]
  }
 ],
 "metadata": {
  "interpreter": {
   "hash": "0bf491debb1323e6b952e9b9b41b7810b4a48edbb68ec0475fd0540a95f2daa0"
  },
  "kernelspec": {
   "display_name": "Python 3.9.6 64-bit",
   "language": "python",
   "name": "python3"
  },
  "language_info": {
   "codemirror_mode": {
    "name": "ipython",
    "version": 3
   },
   "file_extension": ".py",
   "mimetype": "text/x-python",
   "name": "python",
   "nbconvert_exporter": "python",
   "pygments_lexer": "ipython3",
   "version": "3.9.6"
  },
  "orig_nbformat": 4
 },
 "nbformat": 4,
 "nbformat_minor": 2
}
